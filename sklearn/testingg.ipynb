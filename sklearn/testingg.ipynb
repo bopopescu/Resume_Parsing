{
 "cells": [
  {
   "cell_type": "code",
   "execution_count": 5,
   "metadata": {},
   "outputs": [],
   "source": [
    "import numpy as np\n",
    "import pandas as pd\n",
    "from sklearn.feature_extraction.text import CountVectorizer\n",
    "from sklearn.cross_validation import train_test_split\n",
    "from sklearn.naive_bayes import MultinomialNB\n",
    "\n",
    "df = pd.read_csv('trainingSkills.txt', sep='|', names=['Category', 'Input'])\n",
    "# df.head() to print first 4 lines of our data\n",
    "\n",
    "# Now, we change the category names (s for skill and e for education) into numbers\n",
    "df.loc[df[\"Category\"] == 's', \"Category\",] = 0\n",
    "df.loc[df[\"Category\"] == 'e', \"Category\",] = 1\n",
    "# print(df)\n",
    "\n",
    "# TESTING SOME STUFF HERE\n",
    "# df_y=df[\"Category\"]\n",
    "# df_x=df[\"Input\"]\n",
    "#\n",
    "# x_train, x_test, y_train, y_test = train_test_split(df_x, df_y, test_size=0)\n",
    "\n",
    "y_train = df[\"Category\"]\n",
    "x_train = df[\"Input\"]\n",
    "\n",
    "# print(x_train)\n",
    "# print(y_train)"
   ]
  },
  {
   "cell_type": "code",
   "execution_count": 6,
   "metadata": {},
   "outputs": [
    {
     "name": "stdout",
     "output_type": "stream",
     "text": [
      "Skills\n"
     ]
    }
   ],
   "source": [
    "cv = CountVectorizer()\n",
    "\n",
    "x_trainCV = cv.fit_transform(x_train)\n",
    "a = x_trainCV.toarray()\n",
    "\n",
    "#print(a[0])\n",
    "#print(cv.inverse_transform(a[0]))\n",
    "\n",
    "nb = MultinomialNB()\n",
    "y_train = y_train.astype('int')\n",
    "nb.fit(x_trainCV,y_train)\n",
    "\n",
    "df2 = pd.read_csv('toTest.txt')\n",
    "x_testCV = cv.transform(df2)\n",
    "\n",
    "prediction = nb.predict(x_testCV)\n",
    "my_input = df2.to_csv()\n",
    "my_str = my_input[1:]\n",
    "my_str = my_str.replace('\\n','')\n",
    "if prediction[0]==0:\n",
    "    print(\"Skills\")\n",
    "else:\n",
    "    print(\"Other\")"
   ]
  },
  {
   "cell_type": "code",
   "execution_count": 7,
   "metadata": {},
   "outputs": [
    {
     "data": {
      "text/plain": [
       "KNeighborsClassifier(algorithm='auto', leaf_size=30, metric='minkowski',\n",
       "           metric_params=None, n_jobs=1, n_neighbors=5, p=2,\n",
       "           weights='uniform')"
      ]
     },
     "execution_count": 7,
     "metadata": {},
     "output_type": "execute_result"
    }
   ],
   "source": [
    "# import the class\n",
    "from sklearn.neighbors import KNeighborsClassifier\n",
    "\n",
    "# instantiate the model (with the default parameters)\n",
    "knn = KNeighborsClassifier()\n",
    "\n",
    "# fit the model with data (occurs in-place)\n",
    "knn.fit(x_trainCV, y_train)"
   ]
  },
  {
   "cell_type": "code",
   "execution_count": 8,
   "metadata": {},
   "outputs": [
    {
     "name": "stdout",
     "output_type": "stream",
     "text": [
      "Skills\n"
     ]
    }
   ],
   "source": [
    "y_pred_class = knn.predict(x_testCV)\n",
    "if prediction[0]==0:\n",
    "    print(\"Skills\")\n",
    "else:\n",
    "    print(\"Other\")"
   ]
  },
  {
   "cell_type": "code",
   "execution_count": 9,
   "metadata": {},
   "outputs": [
    {
     "data": {
      "text/plain": [
       "SVC(C=1.0, cache_size=200, class_weight=None, coef0=0.0,\n",
       "  decision_function_shape=None, degree=3, gamma='auto', kernel='rbf',\n",
       "  max_iter=-1, probability=False, random_state=None, shrinking=True,\n",
       "  tol=0.001, verbose=False)"
      ]
     },
     "execution_count": 9,
     "metadata": {},
     "output_type": "execute_result"
    }
   ],
   "source": [
    "# import the class\n",
    "from sklearn.svm import SVC\n",
    "\n",
    "# instantiate the model (with the default parameters)\n",
    "svc = SVC()\n",
    "\n",
    "# fit the model with data (occurs in-place)\n",
    "svc.fit(x_trainCV, y_train)"
   ]
  },
  {
   "cell_type": "code",
   "execution_count": 10,
   "metadata": {},
   "outputs": [
    {
     "name": "stdout",
     "output_type": "stream",
     "text": [
      "Skills\n"
     ]
    }
   ],
   "source": [
    "y_pred_class = knn.predict(x_testCV)\n",
    "if prediction[0]==0:\n",
    "    print(\"Skills\")\n",
    "else:\n",
    "    print(\"Other\")"
   ]
  }
 ],
 "metadata": {
  "kernelspec": {
   "display_name": "Python 3",
   "language": "python",
   "name": "python3"
  },
  "language_info": {
   "codemirror_mode": {
    "name": "ipython",
    "version": 3
   },
   "file_extension": ".py",
   "mimetype": "text/x-python",
   "name": "python",
   "nbconvert_exporter": "python",
   "pygments_lexer": "ipython3",
   "version": "3.6.1"
  }
 },
 "nbformat": 4,
 "nbformat_minor": 2
}
