{
 "cells": [
  {
   "cell_type": "code",
   "execution_count": 4,
   "metadata": {},
   "outputs": [
    {
     "name": "stderr",
     "output_type": "stream",
     "text": [
      "/Users/rodrigopimenta/anaconda/lib/python3.6/site-packages/sklearn/cross_validation.py:44: DeprecationWarning: This module was deprecated in version 0.18 in favor of the model_selection module into which all the refactored classes and functions are moved. Also note that the interface of the new CV iterators are different from that of this module. This module will be removed in 0.20.\n",
      "  \"This module will be removed in 0.20.\", DeprecationWarning)\n"
     ]
    }
   ],
   "source": [
    "import numpy as np\n",
    "import pandas as pd\n",
    "from sklearn.feature_extraction.text import CountVectorizer\n",
    "from sklearn.cross_validation import train_test_split\n",
    "from sklearn.naive_bayes import MultinomialNB\n",
    "\n",
    "df = pd.read_csv('trainingSkills.txt', sep='|', names=['Category', 'Input'])"
   ]
  },
  {
   "cell_type": "code",
   "execution_count": 5,
   "metadata": {
    "collapsed": true
   },
   "outputs": [],
   "source": [
    "# df.head() to print first 4 lines of our data\n",
    "\n",
    "# Now, we change the category names (s for skill and e for education) into numbers\n",
    "df.loc[df[\"Category\"] == 's', \"Category\",] = 0\n",
    "df.loc[df[\"Category\"] == 'e', \"Category\",] = 1\n",
    "# print(df)\n",
    "\n",
    "# TESTING SOME STUFF HERE\n",
    "# df_y=df[\"Category\"]\n",
    "# df_x=df[\"Input\"]\n",
    "#\n",
    "# x_train, x_test, y_train, y_test = train_test_split(df_x, df_y, test_size=0)\n",
    "\n",
    "y_train = df[\"Category\"]\n",
    "x_train = df[\"Input\"]\n",
    "\n",
    "#print(x_train)\n",
    "#print(y_train)"
   ]
  },
  {
   "cell_type": "code",
   "execution_count": 3,
   "metadata": {},
   "outputs": [
    {
     "ename": "NameError",
     "evalue": "name 'CountVectorizer' is not defined",
     "output_type": "error",
     "traceback": [
      "\u001b[0;31m---------------------------------------------------------------------------\u001b[0m",
      "\u001b[0;31mNameError\u001b[0m                                 Traceback (most recent call last)",
      "\u001b[0;32m<ipython-input-3-75e37fb408d0>\u001b[0m in \u001b[0;36m<module>\u001b[0;34m()\u001b[0m\n\u001b[0;32m----> 1\u001b[0;31m \u001b[0mcv\u001b[0m \u001b[0;34m=\u001b[0m \u001b[0mCountVectorizer\u001b[0m\u001b[0;34m(\u001b[0m\u001b[0;34m)\u001b[0m\u001b[0;34m\u001b[0m\u001b[0m\n\u001b[0m\u001b[1;32m      2\u001b[0m \u001b[0;34m\u001b[0m\u001b[0m\n\u001b[1;32m      3\u001b[0m \u001b[0mx_trainCV\u001b[0m \u001b[0;34m=\u001b[0m \u001b[0mcv\u001b[0m\u001b[0;34m.\u001b[0m\u001b[0mfit_transform\u001b[0m\u001b[0;34m(\u001b[0m\u001b[0mx_train\u001b[0m\u001b[0;34m)\u001b[0m\u001b[0;34m\u001b[0m\u001b[0m\n\u001b[1;32m      4\u001b[0m \u001b[0ma\u001b[0m \u001b[0;34m=\u001b[0m \u001b[0mx_trainCV\u001b[0m\u001b[0;34m.\u001b[0m\u001b[0mtoarray\u001b[0m\u001b[0;34m(\u001b[0m\u001b[0;34m)\u001b[0m\u001b[0;34m\u001b[0m\u001b[0m\n\u001b[1;32m      5\u001b[0m \u001b[0;34m\u001b[0m\u001b[0m\n",
      "\u001b[0;31mNameError\u001b[0m: name 'CountVectorizer' is not defined"
     ]
    }
   ],
   "source": [
    "cv = CountVectorizer()\n",
    "\n",
    "x_trainCV = cv.fit_transform(x_train)\n",
    "a = x_trainCV.toarray()\n",
    "\n",
    "#print(a[0])\n",
    "#print(cv.inverse_transform(a[0]))\n",
    "\n",
    "nb = MultinomialNB()\n",
    "y_train = y_train.astype('int')\n",
    "nb.fit(x_trainCV,y_train)\n",
    "\n",
    "df2 = pd.read_csv('toTest.txt', sep='|', names=['Category', 'Input'])\n",
    "df2.loc[df[\"Category\"] == 's', \"Category\",] = 0\n",
    "df2.loc[df[\"Category\"] == 'e', \"Category\",] = 1\n",
    "y_test = df2[\"Category\"]\n",
    "x_test = df2[\"Input\"]\n",
    "x_testCV = cv.fit_transform(x_test)\n",
    "b = x_testCV.toarray()\n",
    "print(b[0])\n",
    "#df2 = pd.read_csv('toTest.txt')\n",
    "#x_testCV = cv.transform(df2)\n",
    "\n",
    "prediction = nb.predict(x_testCV)\n",
    "my_input = df2.to_csv()\n",
    "my_str = my_input[1:]\n",
    "my_str = my_str.replace('\\n','')\n",
    "if prediction[0]==0:\n",
    "    print(\"\\n\"+my_str+\" is part of SKILLS\")\n",
    "else:\n",
    "    print(\"\\n\"+my_str+\" is part of EDUCATION\")"
   ]
  },
  {
   "cell_type": "code",
   "execution_count": 27,
   "metadata": {},
   "outputs": [
    {
     "data": {
      "text/plain": [
       "KNeighborsClassifier(algorithm='auto', leaf_size=30, metric='minkowski',\n",
       "           metric_params=None, n_jobs=1, n_neighbors=5, p=2,\n",
       "           weights='uniform')"
      ]
     },
     "execution_count": 27,
     "metadata": {},
     "output_type": "execute_result"
    }
   ],
   "source": [
    "# import the class\n",
    "from sklearn.neighbors import KNeighborsClassifier\n",
    "\n",
    "# instantiate the model (with the default parameters)\n",
    "knn = KNeighborsClassifier()\n",
    "\n",
    "# fit the model with data (occurs in-place)\n",
    "knn.fit(x_trainCV, y_train)"
   ]
  },
  {
   "cell_type": "code",
   "execution_count": 30,
   "metadata": {},
   "outputs": [
    {
     "name": "stdout",
     "output_type": "stream",
     "text": [
      "SKILLS\n"
     ]
    }
   ],
   "source": [
    "y_pred_class = knn.predict(x_testCV)\n",
    "if prediction[0]==0:\n",
    "    print(\"SKILLS\")\n",
    "else:\n",
    "    print(\"EDUCATION\")"
   ]
  },
  {
   "cell_type": "code",
   "execution_count": null,
   "metadata": {
    "collapsed": true
   },
   "outputs": [],
   "source": [
    "# calculate accuracy of class predictions\n",
    "from sklearn import metrics\n",
    "metrics.accuracy_score(y_test, y_pred_class)"
   ]
  }
 ],
 "metadata": {
  "kernelspec": {
   "display_name": "Python 3",
   "language": "python",
   "name": "python3"
  },
  "language_info": {
   "codemirror_mode": {
    "name": "ipython",
    "version": 3
   },
   "file_extension": ".py",
   "mimetype": "text/x-python",
   "name": "python",
   "nbconvert_exporter": "python",
   "pygments_lexer": "ipython3",
   "version": "3.6.1"
  }
 },
 "nbformat": 4,
 "nbformat_minor": 2
}
