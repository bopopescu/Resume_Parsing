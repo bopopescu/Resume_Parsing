{
 "cells": [
  {
   "cell_type": "code",
   "execution_count": 84,
   "metadata": {},
   "outputs": [
    {
     "name": "stdout",
     "output_type": "stream",
     "text": [
      "[]\n",
      "[]\n",
      "[]\n",
      "{}\n"
     ]
    }
   ],
   "source": [
    "#universities_list -> List of all extracted universities\n",
    "#majors_minors_final_list -> List of all majors, masters, and minors\n",
    "#universities_list = []\n",
    "#majors_minors_final_list = []\n",
    "\n",
    "\n",
    "universities_ind_list = [] #List of dictionaries\n",
    "majors_dict = {'Name': 5} #Dictionary\n",
    "\n",
    "#Create universities_ind_list with all universities matched to their index\n",
    "for i, element in enumerate(universities_list):\n",
    "    x = resume_file.find(element)\n",
    "    temp = {element: x}\n",
    "    universities_ind_list.append(temp)\n",
    "    del temp\n",
    "print(universities_ind_list)\n",
    "\n",
    "#Order universities_ind_list by index, using bubble sort.\n",
    "alist = []\n",
    "#my_range(start, end, step)\n",
    "for passnum in range(len(universities_ind_list)-1,0,-1):\n",
    "    for i in range(passnum):\n",
    "        alist[i] = list(universities_ind_list[i].values())[0]\n",
    "        alist[i+1] = list(universities_ind_list[i+1].values())[0]\n",
    "        if alist[i]>alist[i+1]:\n",
    "            #temp = alist[i]\n",
    "            temp = universities_ind_list[i]\n",
    "            #alist[i] = alist[i+1]\n",
    "            (universities_ind_list[i]) = (universities_ind_list[i+1])\n",
    "            #alist[i+1] = temp\n",
    "            (universities_ind_list[i+1]) = temp\n",
    "print(universities_ind_list)\n",
    "\n",
    "\n",
    "#Create majors_dict with all majors matched to their index\n",
    "for i, element in enumerate(majors_minors_final_list):\n",
    "    x = resume_file.find(element)\n",
    "    majors_dict[element] = x\n",
    "del majors_dict['Name']\n",
    "print(majors_dict)\n"
   ]
  },
  {
   "cell_type": "code",
   "execution_count": 85,
   "metadata": {},
   "outputs": [
    {
     "name": "stdout",
     "output_type": "stream",
     "text": [
      "[{'Univ1': ['major1', 'major2']}, {'Univ2': ['major1', 'major2']}]\n",
      "[]\n"
     ]
    }
   ],
   "source": [
    "#Create final_list\n",
    "final_list = [{'Univ1': ['major1','major2']},{'Univ2': ['major1','major2']}]\n",
    "print (final_list)\n",
    "del final_list[0]\n",
    "del final_list[0]\n",
    "print (final_list)"
   ]
  },
  {
   "cell_type": "code",
   "execution_count": 86,
   "metadata": {},
   "outputs": [
    {
     "name": "stdout",
     "output_type": "stream",
     "text": [
      "Universities list is empty\n"
     ]
    }
   ],
   "source": [
    "universities_ind_list_len = len(universities_ind_list)\n",
    "#0 Universities\n",
    "if (not universities_list) or (universities_ind_list_len == 0):\n",
    "    print(\"Universities list is empty\")\n",
    "\n",
    "#1 University\n",
    "if (universities_ind_list_len == 1):\n",
    "    #Then associate all majors in 150 char range, with this University \n",
    "    first_index = list(universities_ind_list[0].values())[0]\n",
    "    \n",
    "    #Get list of majors within the range\n",
    "    first_majors = []\n",
    "    lower_bound = first_index\n",
    "    upper_bound = first_index+150\n",
    "    for k, v in majors_dict.items():\n",
    "        if (lower_bound < v < upper_bound):\n",
    "            first_majors.append(k)\n",
    "            \n",
    "    #Associate list with single university in final_list\n",
    "    first_university = list(universities_ind_list[0].keys())[0]\n",
    "    #temp = {'Univ1': ['major1','major2']}\n",
    "    #del temp['Univ1']\n",
    "    #temp[first_university] = first_majors\n",
    "    temp = {first_university, first_majors}\n",
    "    final_list.append(temp)\n",
    "    print(final_list)\n"
   ]
  },
  {
   "cell_type": "code",
   "execution_count": 88,
   "metadata": {
    "collapsed": true
   },
   "outputs": [],
   "source": [
    "#2 Universities\n",
    "if (universities_ind_list_len == 2):\n",
    "    #Then associate all majors in between the two Universities with the first University.\n",
    "    #And associate all majors in 150 char range of the second University with the second University.\n",
    "    first_index = list(universities_ind_list[0].values())[0]\n",
    "    second_index = list(universities_ind_list[1].values())[0]\n",
    "    len_until_next = (second_index - first_index)\n",
    "    \n",
    "    first_majors = []\n",
    "    second_majors = []\n",
    "    \n",
    "    #Get list of majors within the two Universities\n",
    "    lower_bound = first_index\n",
    "    upper_bound = first_index+len_until_next\n",
    "    for k, v in majors_dict.items():\n",
    "        if (lower_bound < v < upper_bound):\n",
    "            first_majors.append(k)\n",
    "    \n",
    "    #Get list of majors within 150 char range of the second University.\n",
    "    lower_bound = second_index\n",
    "    upper_bound = second_index+150\n",
    "    for k, v in majors_dict.items():\n",
    "        if (lower_bound < v < upper_bound):\n",
    "            second_majors.append(k)\n",
    "            \n",
    "    #Associate lists with Universities\n",
    "    first_university = list(universities_ind_list[0].keys())[0]\n",
    "    second_university = list(universities_ind_list[1].keys())[0]\n",
    "    temp1 = {first_university, first_majors}\n",
    "    temp2 = {second_university, second_majors}\n",
    "    final_list.append(temp1)\n",
    "    final_list.append(temp2)\n",
    "    print(final_list)\n"
   ]
  },
  {
   "cell_type": "code",
   "execution_count": 89,
   "metadata": {
    "collapsed": true
   },
   "outputs": [],
   "source": [
    "#3 or more Universities\n",
    "#Iterate through universities_ind_list\n",
    "if (universities_ind_list_len > 2):\n",
    "    for i in range(0, (universities_ind_list_len-2)):\n",
    "        first_index = list(universities_ind_list[i].values())[0]\n",
    "        second_index = list(universities_ind_list[i+1].values())[0]\n",
    "        len_until_next = (second_index - first_index)\n",
    "\n",
    "        first_majors = []\n",
    "        second_majors = []\n",
    "\n",
    "        #Get list of majors within the two Universities\n",
    "        lower_bound = first_index\n",
    "        upper_bound = first_index+len_until_next\n",
    "        for k, v in majors_dict.items():\n",
    "            if (lower_bound < v < upper_bound):\n",
    "                first_majors.append(k)\n",
    "\n",
    "        if ((i+1) == (universities_ind_list_len-1)):\n",
    "        #if (i == (universities_dict_len-2))\n",
    "            #Get majors of last University on the list\n",
    "            lower_bound = second_index\n",
    "            upper_bound = second_index+150\n",
    "            for k, v in majors_dict.items():\n",
    "                if (lower_bound < v < upper_bound):\n",
    "                    second_majors.append(k)\n",
    "        #Else continue loop until end\n",
    "        \n",
    "        #Associate lists with Universities.\n",
    "        first_university = list(universities_ind_list[i].keys())[0]\n",
    "        temp1 = {first_university, first_majors}\n",
    "        final_list.append(temp1)\n",
    "        if (second_majors):\n",
    "        #If second_majors list is not empty, add it to final_list with its University.\n",
    "            second_university = list(universities_ind_list[i+1].keys())[0]\n",
    "            temp2 = {second_university, second_majors}\n",
    "            final_list.append(temp2)\n",
    "    print(final_list)"
   ]
  },
  {
   "cell_type": "code",
   "execution_count": 90,
   "metadata": {},
   "outputs": [
    {
     "name": "stdout",
     "output_type": "stream",
     "text": [
      "1\n",
      "2\n"
     ]
    }
   ],
   "source": [
    "universities_dict = {'Univ1': 1, 'Univ2': 2}\n",
    "\n",
    "i=0\n",
    "first_index = list(universities_dict.values())[i]\n",
    "second_index = list(universities_dict.values())[i+1]\n",
    "print(first_index)\n",
    "print(second_index)\n"
   ]
  },
  {
   "cell_type": "code",
   "execution_count": 91,
   "metadata": {
    "scrolled": true
   },
   "outputs": [
    {
     "name": "stdout",
     "output_type": "stream",
     "text": [
      "2\n"
     ]
    }
   ],
   "source": [
    "print(len(universities_dict.keys()))"
   ]
  },
  {
   "cell_type": "code",
   "execution_count": 92,
   "metadata": {},
   "outputs": [
    {
     "name": "stdout",
     "output_type": "stream",
     "text": [
      "[{'x': 0}, {'y': 1}, {'z': 2}, {'r': 3}]\n",
      "4\n"
     ]
    }
   ],
   "source": [
    "universities_ind_list = []\n",
    "\n",
    "x=5\n",
    "universities_list = ['x','y','z','r']\n",
    "universities_dictt = {'Name': 5}\n",
    "del universities_dictt['Name']\n",
    "\n",
    "for i, element in enumerate(universities_list):\n",
    "    x = i\n",
    "    temp = {element: x}\n",
    "    universities_ind_list.append(temp)\n",
    "    del temp\n",
    "print(universities_ind_list)\n",
    "print(len(universities_ind_list))"
   ]
  },
  {
   "cell_type": "code",
   "execution_count": 93,
   "metadata": {},
   "outputs": [
    {
     "name": "stdout",
     "output_type": "stream",
     "text": [
      "2\n"
     ]
    }
   ],
   "source": [
    "first_index = list(universities_ind_list[2].values())[0]\n",
    "print(first_index)"
   ]
  },
  {
   "cell_type": "code",
   "execution_count": 94,
   "metadata": {},
   "outputs": [
    {
     "name": "stdout",
     "output_type": "stream",
     "text": [
      "yes\n"
     ]
    }
   ],
   "source": [
    "second_majors = [2,2]\n",
    "if (second_majors):\n",
    "    print('yes')"
   ]
  },
  {
   "cell_type": "code",
   "execution_count": null,
   "metadata": {
    "collapsed": true
   },
   "outputs": [],
   "source": []
  }
 ],
 "metadata": {
  "kernelspec": {
   "display_name": "Python 3",
   "language": "python",
   "name": "python3"
  },
  "language_info": {
   "codemirror_mode": {
    "name": "ipython",
    "version": 3
   },
   "file_extension": ".py",
   "mimetype": "text/x-python",
   "name": "python",
   "nbconvert_exporter": "python",
   "pygments_lexer": "ipython3",
   "version": "3.6.1"
  }
 },
 "nbformat": 4,
 "nbformat_minor": 2
}
